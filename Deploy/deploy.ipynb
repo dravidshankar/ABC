{
  "cells": [
    {
      "cell_type": "code",
      "source": [
        "from azureml.core import Workspace\n",
        "\n",
        "# Load the AzureML workspace\n",
        "ws = Workspace.from_config()  # Assumes config.json is in the current directory\n"
      ],
      "outputs": [],
      "execution_count": 1,
      "metadata": {
        "gather": {
          "logged": 1729808217946
        }
      }
    },
    {
      "cell_type": "code",
      "source": [
        "from azureml.core import Environment\n",
        "from azureml.core.runconfig import DockerConfiguration\n",
        "\n",
        "# Define a DockerConfiguration object\n",
        "docker_config = DockerConfiguration(use_docker=True)\n",
        "\n",
        "# Define environment using your custom Docker image from ACR\n",
        "acr_image = \"ravi25oct.azurecr.io/my-ml-image:latest\"  # Replace with your ACR image\n",
        "\n",
        "env = Environment(name=\"my_custom_docker_env\")\n",
        "env.docker.base_image = acr_image  # Set the Docker image\n"
      ],
      "outputs": [],
      "execution_count": 3,
      "metadata": {
        "jupyter": {
          "source_hidden": false,
          "outputs_hidden": false
        },
        "nteract": {
          "transient": {
            "deleting": false
          }
        },
        "gather": {
          "logged": 1729808309999
        }
      }
    },
    {
      "cell_type": "code",
      "source": [
        "%write job.yml\n",
        "\n",
        "command: >\n",
        "  python train.py --arg1 some_value\n",
        "environment:\n",
        "  docker:\n",
        "    image: ravi25oct.azurecr.io/my-ml-image:latest  # Your Docker image in ACR\n",
        "compute: azureml:cpu-cluster  # Specify your compute target\n",
        "inputs:\n",
        "  input_data:\n",
        "    type: uri_file\n",
        "    path: azureml://datastores/workspaceblobstore/paths/input-data/\n",
        "outputs:\n",
        "  output_data:\n",
        "    type: uri_file\n",
        "    path: azureml://datastores/workspaceblobstore/paths/output-data/\n",
        "resources:\n",
        "  instance_count: 1\n"
      ],
      "outputs": [
        {
          "output_type": "error",
          "ename": "SyntaxError",
          "evalue": "invalid syntax (4192029174.py, line 2)",
          "traceback": [
            "\u001b[0;36m  Cell \u001b[0;32mIn[7], line 2\u001b[0;36m\u001b[0m\n\u001b[0;31m    $schema: https://azuremlschemas.azureedge.net/latest/commandJob.schema.json\u001b[0m\n\u001b[0m    ^\u001b[0m\n\u001b[0;31mSyntaxError\u001b[0m\u001b[0;31m:\u001b[0m invalid syntax\n"
          ]
        }
      ],
      "execution_count": 7,
      "metadata": {
        "jupyter": {
          "source_hidden": false,
          "outputs_hidden": false
        },
        "nteract": {
          "transient": {
            "deleting": false
          }
        },
        "gather": {
          "logged": 1729808591994
        }
      }
    },
    {
      "cell_type": "code",
      "source": [],
      "outputs": [],
      "execution_count": null,
      "metadata": {
        "jupyter": {
          "source_hidden": false,
          "outputs_hidden": false
        },
        "nteract": {
          "transient": {
            "deleting": false
          }
        }
      }
    }
  ],
  "metadata": {
    "kernelspec": {
      "name": "python310-sdkv2",
      "language": "python",
      "display_name": "Python 3.10 - SDK v2"
    },
    "language_info": {
      "name": "python",
      "version": "3.10.14",
      "mimetype": "text/x-python",
      "codemirror_mode": {
        "name": "ipython",
        "version": 3
      },
      "pygments_lexer": "ipython3",
      "nbconvert_exporter": "python",
      "file_extension": ".py"
    },
    "microsoft": {
      "ms_spell_check": {
        "ms_spell_check_language": "en"
      }
    },
    "kernel_info": {
      "name": "python310-sdkv2"
    },
    "nteract": {
      "version": "nteract-front-end@1.0.0"
    }
  },
  "nbformat": 4,
  "nbformat_minor": 2
}